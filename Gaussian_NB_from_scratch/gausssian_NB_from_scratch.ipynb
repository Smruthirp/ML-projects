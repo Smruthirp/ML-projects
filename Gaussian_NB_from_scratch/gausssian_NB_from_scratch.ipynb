{
 "cells": [
  {
   "cell_type": "code",
   "execution_count": 1,
   "metadata": {},
   "outputs": [],
   "source": [
    "import numpy as np\n",
    "import matplotlib.pyplot as plt\n",
    "import pandas as pd"
   ]
  },
  {
   "cell_type": "code",
   "execution_count": 571,
   "metadata": {},
   "outputs": [],
   "source": [
    "class gaussian_nb:\n",
    "    def __init__(self,x,y):\n",
    "        self.x=x\n",
    "        self.y=y\n",
    "        self.classes,self.freq=np.unique(y,return_counts=True)\n",
    "        packed=zip(self.classes,self.freq)\n",
    "        self.priors={}\n",
    "        self.classes_index={}\n",
    "        self.subdatasets={}\n",
    "        for i,f in (packed):\n",
    "            self.subdatasets.setdefault(i,[])\n",
    "            self.priors[i]=f/len(self.y)\n",
    "            self.classes_index[i] = [j for j in range(len(y)) if y[j]==i ]\n",
    "            for j in self.classes_index[i]:\n",
    "                self.subdatasets[i].append(x[j])\n",
    "        \n",
    "    def calculate(self):\n",
    "        self.means={}\n",
    "        self.stds={}\n",
    "        for i in self.classes:\n",
    "            self.means.setdefault(i,[])\n",
    "            self.stds.setdefault(i,[])\n",
    "            self.means[i]=np.mean(self.subdatasets[i],axis=0)[0]\n",
    "            self.stds[i]=np.std(self.subdatasets[i],axis=0)[0]\n",
    "        \n",
    "    def pred_probs(self,x):\n",
    "        self.res=[]\n",
    "        for i in range(len(x)):\n",
    "            probs = []\n",
    "            for j in (self.classes):\n",
    "                probs.append((1/np.sqrt(2*np.pi*self.stds[j]**2)*np.exp(-0.5*\n",
    "                        ((x[i]-self.means[j])/self.stds[j])**2)).prod()*self.priors[j])\n",
    "            probs = np.array(probs)\n",
    "            self.res.append(probs / probs.sum())\n",
    "        return np.array(self.res)\n",
    "    \n",
    "    def predict(self, x):\n",
    "        \n",
    "        res = self.pred_probs(x)\n",
    "        \n",
    "        return res.argmax(axis=1)\n",
    "        "
   ]
  },
  {
   "cell_type": "code",
   "execution_count": 572,
   "metadata": {},
   "outputs": [],
   "source": [
    "x=[[101,90],[110,95],[50,10],[70,10],[60,20],[-1,-2],[-5,-6]]\n",
    "y=[100,100,999,999,999,222,222]"
   ]
  },
  {
   "cell_type": "code",
   "execution_count": 573,
   "metadata": {},
   "outputs": [],
   "source": [
    "xy=gaussian_nb(x,y)"
   ]
  },
  {
   "cell_type": "code",
   "execution_count": 574,
   "metadata": {},
   "outputs": [],
   "source": [
    "xy.calculate()"
   ]
  },
  {
   "cell_type": "code",
   "execution_count": 575,
   "metadata": {},
   "outputs": [
    {
     "data": {
      "text/plain": [
       "{100: 4.5, 222: 2.0, 999: 8.16496580927726}"
      ]
     },
     "execution_count": 575,
     "metadata": {},
     "output_type": "execute_result"
    }
   ],
   "source": [
    "xy.stds"
   ]
  },
  {
   "cell_type": "code",
   "execution_count": 576,
   "metadata": {},
   "outputs": [
    {
     "data": {
      "text/plain": [
       "{100: 105.5, 222: -3.0, 999: 60.0}"
      ]
     },
     "execution_count": 576,
     "metadata": {},
     "output_type": "execute_result"
    }
   ],
   "source": [
    "xy.means"
   ]
  },
  {
   "cell_type": "code",
   "execution_count": 577,
   "metadata": {},
   "outputs": [
    {
     "data": {
      "text/plain": [
       "array([[9.99998890e-001, 0.00000000e+000, 1.10962602e-006],\n",
       "       [1.00000000e+000, 0.00000000e+000, 8.41199078e-012],\n",
       "       [9.55570190e-123, 7.05308307e-153, 1.00000000e+000],\n",
       "       [3.13838325e-103, 1.11075224e-289, 1.00000000e+000],\n",
       "       [9.17947628e-096, 1.18910122e-238, 1.00000000e+000],\n",
       "       [1.04499355e-246, 1.00000000e+000, 3.84497388e-026],\n",
       "       [5.64855120e-265, 1.00000000e+000, 5.12700715e-029]])"
      ]
     },
     "execution_count": 577,
     "metadata": {},
     "output_type": "execute_result"
    }
   ],
   "source": [
    "xy.pred_probs(x)"
   ]
  },
  {
   "cell_type": "code",
   "execution_count": 578,
   "metadata": {},
   "outputs": [
    {
     "data": {
      "text/plain": [
       "[array([9.99998890e-01, 0.00000000e+00, 1.10962602e-06]),\n",
       " array([1.00000000e+00, 0.00000000e+00, 8.41199078e-12]),\n",
       " array([9.55570190e-123, 7.05308307e-153, 1.00000000e+000]),\n",
       " array([3.13838325e-103, 1.11075224e-289, 1.00000000e+000]),\n",
       " array([9.17947628e-096, 1.18910122e-238, 1.00000000e+000]),\n",
       " array([1.04499355e-246, 1.00000000e+000, 3.84497388e-026]),\n",
       " array([5.64855120e-265, 1.00000000e+000, 5.12700715e-029])]"
      ]
     },
     "execution_count": 578,
     "metadata": {},
     "output_type": "execute_result"
    }
   ],
   "source": [
    "xy.res"
   ]
  },
  {
   "cell_type": "code",
   "execution_count": 579,
   "metadata": {},
   "outputs": [
    {
     "data": {
      "text/plain": [
       "{100: 0.2857142857142857, 222: 0.2857142857142857, 999: 0.42857142857142855}"
      ]
     },
     "execution_count": 579,
     "metadata": {},
     "output_type": "execute_result"
    }
   ],
   "source": [
    "xy.priors"
   ]
  },
  {
   "cell_type": "code",
   "execution_count": 580,
   "metadata": {},
   "outputs": [
    {
     "data": {
      "text/plain": [
       "3"
      ]
     },
     "execution_count": 580,
     "metadata": {},
     "output_type": "execute_result"
    }
   ],
   "source": [
    "len(xy.classes)"
   ]
  },
  {
   "cell_type": "code",
   "execution_count": 588,
   "metadata": {},
   "outputs": [],
   "source": [
    "c=xy.predict([[10,20],[100,250],[-8,0],[-5,-5]])"
   ]
  },
  {
   "cell_type": "code",
   "execution_count": 589,
   "metadata": {},
   "outputs": [
    {
     "data": {
      "text/plain": [
       "array([2, 2, 1, 1], dtype=int64)"
      ]
     },
     "execution_count": 589,
     "metadata": {},
     "output_type": "execute_result"
    }
   ],
   "source": [
    "c"
   ]
  },
  {
   "cell_type": "code",
   "execution_count": 590,
   "metadata": {},
   "outputs": [
    {
     "data": {
      "text/plain": [
       "array([999, 999, 222, 222])"
      ]
     },
     "execution_count": 590,
     "metadata": {},
     "output_type": "execute_result"
    }
   ],
   "source": [
    "from sklearn.naive_bayes import GaussianNB\n",
    "gnb = GaussianNB()\n",
    "gnb.fit(x, y)\n",
    "gnb.predict([[10,20],[100,250],[-8,0],[-5,-5]])"
   ]
  },
  {
   "cell_type": "code",
   "execution_count": 592,
   "metadata": {},
   "outputs": [],
   "source": [
    "#0:100  1:222  2:999"
   ]
  },
  {
   "cell_type": "code",
   "execution_count": null,
   "metadata": {},
   "outputs": [],
   "source": []
  }
 ],
 "metadata": {
  "kernelspec": {
   "display_name": "Python 3",
   "language": "python",
   "name": "python3"
  },
  "language_info": {
   "codemirror_mode": {
    "name": "ipython",
    "version": 3
   },
   "file_extension": ".py",
   "mimetype": "text/x-python",
   "name": "python",
   "nbconvert_exporter": "python",
   "pygments_lexer": "ipython3",
   "version": "3.7.6"
  }
 },
 "nbformat": 4,
 "nbformat_minor": 4
}
